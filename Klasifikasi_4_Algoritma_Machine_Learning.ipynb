{
 "cells": [
  {
   "cell_type": "markdown",
   "id": "f0c22e1c",
   "metadata": {},
   "source": [
    "# 📌 Klasifikasi dengan 4 Algoritma Umum\n",
    "Notebook ini menjelaskan penerapan 4 algoritma klasifikasi:\n",
    "- K-Nearest Neighbors (KNN)\n",
    "- Decision Tree\n",
    "- Logistic Regression\n",
    "- Naive Bayes\n",
    "\n",
    "Kita akan menggunakan dataset Iris dari scikit-learn dan membandingkan performa keempat model."
   ]
  },
  {
   "cell_type": "markdown",
   "id": "b6c15418",
   "metadata": {},
   "source": [
    "## 🔧 Import Library\n",
    "Kita mulai dengan mengimpor semua library yang dibutuhkan untuk pemrosesan data, pelatihan model, dan visualisasi."
   ]
  },
  {
   "cell_type": "code",
   "execution_count": null,
   "id": "5099a41d",
   "metadata": {},
   "outputs": [],
   "source": [
    "from sklearn.datasets import load_iris\n",
    "from sklearn.model_selection import train_test_split\n",
    "from sklearn.preprocessing import StandardScaler\n",
    "from sklearn.metrics import accuracy_score\n",
    "import matplotlib.pyplot as plt"
   ]
  },
  {
   "cell_type": "markdown",
   "id": "03128710",
   "metadata": {},
   "source": [
    "## 📥 Load Dataset Iris\n",
    "Dataset iris berisi fitur panjang dan lebar sepal/petal dari 150 bunga iris yang terbagi dalam 3 kelas."
   ]
  },
  {
   "cell_type": "code",
   "execution_count": null,
   "id": "4a4e8e92",
   "metadata": {},
   "outputs": [],
   "source": [
    "iris = load_iris()\n",
    "x = iris.data\n",
    "y = iris.target"
   ]
  },
  {
   "cell_type": "markdown",
   "id": "17aa1f0e",
   "metadata": {},
   "source": [
    "## ✂️ Split Data Menjadi Data Latih dan Uji\n",
    "80% data digunakan untuk pelatihan, 20% untuk pengujian."
   ]
  },
  {
   "cell_type": "code",
   "execution_count": null,
   "id": "1cef9ede",
   "metadata": {},
   "outputs": [],
   "source": [
    "x_train, x_test, y_train, y_test = train_test_split(x, y, test_size=0.2, random_state=42)"
   ]
  },
  {
   "cell_type": "markdown",
   "id": "4e35ff65",
   "metadata": {},
   "source": [
    "## ⚖️ Standarisasi Fitur\n",
    "Standarisasi penting agar model berbasis jarak dan gradien bekerja lebih optimal."
   ]
  },
  {
   "cell_type": "code",
   "execution_count": null,
   "id": "871d3fb2",
   "metadata": {},
   "outputs": [],
   "source": [
    "scaler = StandardScaler()\n",
    "x_train_scaled = scaler.fit_transform(x_train)\n",
    "x_test_scaled = scaler.transform(x_test)"
   ]
  },
  {
   "cell_type": "markdown",
   "id": "bc905deb",
   "metadata": {},
   "source": [
    "## 🧠 K-Nearest Neighbors (KNN)\n",
    "Model KNN memprediksi label berdasarkan mayoritas tetangga terdekat."
   ]
  },
  {
   "cell_type": "code",
   "execution_count": null,
   "id": "cee07fb1",
   "metadata": {},
   "outputs": [],
   "source": [
    "from sklearn.neighbors import KNeighborsClassifier\n",
    "\n",
    "knn = KNeighborsClassifier(n_neighbors=3)\n",
    "knn.fit(x_train_scaled, y_train)\n",
    "y_pred_knn = knn.predict(x_test_scaled)\n",
    "acc_knn = accuracy_score(y_test, y_pred_knn)\n",
    "print(\"KNN Accuracy\", acc_knn)"
   ]
  },
  {
   "cell_type": "markdown",
   "id": "b8d3a03a",
   "metadata": {},
   "source": [
    "## 🌳 Decision Tree\n",
    "Model berbasis struktur pohon yang memecah data berdasarkan fitur paling informatif."
   ]
  },
  {
   "cell_type": "code",
   "execution_count": null,
   "id": "a8fc658d",
   "metadata": {},
   "outputs": [],
   "source": [
    "from sklearn.tree import DecisionTreeClassifier\n",
    "\n",
    "dtree = DecisionTreeClassifier()\n",
    "dtree.fit(x_train_scaled, y_train)\n",
    "y_pred_tree = dtree.predict(x_test_scaled)\n",
    "acc_tree = accuracy_score(y_test, y_pred_tree)\n",
    "print(\"Decision Tree Accuracy\", acc_tree)"
   ]
  },
  {
   "cell_type": "markdown",
   "id": "18c07eca",
   "metadata": {},
   "source": [
    "## 📈 Logistic Regression\n",
    "Model linier yang digunakan untuk klasifikasi melalui fungsi sigmoid."
   ]
  },
  {
   "cell_type": "code",
   "execution_count": null,
   "id": "edd6029a",
   "metadata": {},
   "outputs": [],
   "source": [
    "from sklearn.linear_model import LogisticRegression\n",
    "\n",
    "logreg = LogisticRegression(max_iter=200)\n",
    "logreg.fit(x_train_scaled, y_train)\n",
    "y_pred_logreg = logreg.predict(x_test_scaled)\n",
    "acc_logreg = accuracy_score(y_test, y_pred_logreg)\n",
    "print(\"Logistic Regression Accuracy\", acc_logreg)"
   ]
  },
  {
   "cell_type": "markdown",
   "id": "9b127ebd",
   "metadata": {},
   "source": [
    "## 🎲 Naive Bayes\n",
    "Model probabilistik berdasarkan Teorema Bayes dengan asumsi independensi antar fitur."
   ]
  },
  {
   "cell_type": "code",
   "execution_count": null,
   "id": "706220df",
   "metadata": {},
   "outputs": [],
   "source": [
    "from sklearn.naive_bayes import GaussianNB\n",
    "\n",
    "nb = GaussianNB()\n",
    "nb.fit(x_train_scaled, y_train)\n",
    "y_pred_nb = nb.predict(x_test_scaled)\n",
    "acc_nb = accuracy_score(y_test, y_pred_nb)\n",
    "print(\"Naive Bayes Accuracy\", acc_nb)"
   ]
  },
  {
   "cell_type": "markdown",
   "id": "985bc7c2",
   "metadata": {},
   "source": [
    "## 📊 Visualisasi Perbandingan Akurasi Model\n",
    "Grafik batang digunakan untuk membandingkan akurasi keempat model klasifikasi."
   ]
  },
  {
   "cell_type": "code",
   "execution_count": null,
   "id": "7d479fc7",
   "metadata": {},
   "outputs": [],
   "source": [
    "algorithms = ['KNN', 'Decision Tree', 'Logistic Regression', 'Naive Bayes']\n",
    "accuracies = [acc_knn, acc_tree, acc_logreg, acc_nb]\n",
    "colors = ['skyblue', 'lightgreen', 'orange', 'salmon']\n",
    "\n",
    "plt.figure(figsize=(8, 5))\n",
    "bars = plt.bar(algorithms, accuracies, color=colors)\n",
    "\n",
    "for bar in bars:\n",
    "    yval = bar.get_height()\n",
    "    plt.text(bar.get_x() + bar.get_width()/2, yval + 0.01, f'{yval:.2f}',\n",
    "             ha='center', va='bottom', fontsize=12)\n",
    "\n",
    "plt.title('Perbandingan Akurasi Model Klasifikasi')\n",
    "plt.ylabel('Akurasi')\n",
    "plt.ylim(0.8, 1.05)\n",
    "plt.tight_layout()\n",
    "plt.show()"
   ]
  },
  {
   "cell_type": "markdown",
   "id": "b14b621c",
   "metadata": {},
   "source": [
    "## ✅ Kesimpulan\n",
    "Keempat algoritma memiliki performa yang sangat baik pada dataset Iris.  \n",
    "Namun, pemilihan algoritma dalam praktik nyata tergantung pada kompleksitas data, kecepatan pelatihan, dan interpretabilitas.\n",
    "\n",
    "Terima kasih telah mengikuti!"
   ]
  }
 ],
 "metadata": {},
 "nbformat": 4,
 "nbformat_minor": 5
}
